{
  "nbformat": 4,
  "nbformat_minor": 0,
  "metadata": {
    "colab": {
      "name": "codingChallenge.ipynb",
      "provenance": [],
      "include_colab_link": true
    },
    "kernelspec": {
      "name": "python3",
      "display_name": "Python 3"
    },
    "language_info": {
      "name": "python"
    }
  },
  "cells": [
    {
      "cell_type": "markdown",
      "metadata": {
        "id": "view-in-github",
        "colab_type": "text"
      },
      "source": [
        "<a href=\"https://colab.research.google.com/github/mustafatacyildiz/itf-cohort-10/blob/main/codingChallenge.ipynb\" target=\"_parent\"><img src=\"https://colab.research.google.com/assets/colab-badge.svg\" alt=\"Open In Colab\"/></a>"
      ]
    },
    {
      "cell_type": "code",
      "execution_count": null,
      "metadata": {
        "id": "ygupD1WQ7f-z"
      },
      "outputs": [],
      "source": [
        "def binToDec(num):\n",
        "\n",
        "    temp = str(num)\n",
        "    arr = []\n",
        "    final = []\n",
        "\n",
        "    for i in temp:\n",
        "        arr.append(i)\n",
        "    arrNums = [int(x) for x in arr]\n",
        "    arrNums.reverse()\n",
        "    \n",
        "    \n",
        "    \n",
        "    j = 0\n",
        "    for i in range(0, len(arrNums)):\n",
        "        factor = arrNums[i]*(2**j)\n",
        "        j += 1\n",
        "        final.append(factor)\n",
        "\n",
        "        \n",
        "    print(final)\n",
        "\n",
        "    decimal = 0\n",
        "    for i in range(0, len(final)):\n",
        "        decimal +=  int(final[i])\n",
        "\n",
        "    return decimal"
      ]
    },
    {
      "cell_type": "code",
      "source": [
        "binToDec(11110)"
      ],
      "metadata": {
        "colab": {
          "base_uri": "https://localhost:8080/"
        },
        "id": "mLs7RluJRrAS",
        "outputId": "0d51f610-a80a-45e6-c320-ccfb43a13d69"
      },
      "execution_count": null,
      "outputs": [
        {
          "output_type": "stream",
          "name": "stdout",
          "text": [
            "[0, 2, 4, 8, 16]\n"
          ]
        },
        {
          "output_type": "execute_result",
          "data": {
            "text/plain": [
              "30"
            ]
          },
          "metadata": {},
          "execution_count": 9
        }
      ]
    },
    {
      "cell_type": "code",
      "source": [
        "import math\n",
        "\n",
        "def decToBin(dec):\n",
        "  digitList = []\n",
        "  while (dec >= 1):\n",
        "    digitList.append(dec % 2)\n",
        "    dec = math.floor( dec / 2)\n",
        "  print(digitList)\n",
        "  #digitList.append(1)\n",
        "  digitList.reverse()\n",
        "  return \"\".join([str(i) for i in digitList])\n"
      ],
      "metadata": {
        "id": "Ew3QElxp8aPi"
      },
      "execution_count": null,
      "outputs": []
    },
    {
      "cell_type": "code",
      "source": [
        "print(decToBin(30))"
      ],
      "metadata": {
        "colab": {
          "base_uri": "https://localhost:8080/"
        },
        "id": "WADMWiLWYaoM",
        "outputId": "c8bbcd40-bbd8-440c-a35e-2f884e3dd9b4"
      },
      "execution_count": null,
      "outputs": [
        {
          "output_type": "stream",
          "name": "stdout",
          "text": [
            "[0, 1, 1, 1, 1]\n",
            "11110\n"
          ]
        }
      ]
    }
  ]
}